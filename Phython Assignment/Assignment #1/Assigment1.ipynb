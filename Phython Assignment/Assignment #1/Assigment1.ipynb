{
 "cells": [
  {
   "cell_type": "code",
   "execution_count": 1,
   "id": "36f71442",
   "metadata": {},
   "outputs": [
    {
     "name": "stdout",
     "output_type": "stream",
     "text": [
      "Twinkle,twinkle,little star\n",
      "     How I wonder what you are!\n",
      "                  Up above the world so high,\n",
      "                  Lake a diamond in the sky.\n",
      "Twinkle,twinkle,little star\n",
      "     How I wonder what you are!\n"
     ]
    }
   ],
   "source": [
    "print(\"Twinkle,twinkle,little star\");\n",
    "print(\"     How I wonder what you are!\");\n",
    "print(\"                  Up above the world so high,\");\n",
    "print(\"                  Lake a diamond in the sky.\")\n",
    "print(\"Twinkle,twinkle,little star\");\n",
    "print(\"     How I wonder what you are!\");"
   ]
  },
  {
   "cell_type": "code",
   "execution_count": 2,
   "id": "f20cf396",
   "metadata": {},
   "outputs": [
    {
     "ename": "NameError",
     "evalue": "name 'phython_version' is not defined",
     "output_type": "error",
     "traceback": [
      "\u001b[1;31m---------------------------------------------------------------------------\u001b[0m",
      "\u001b[1;31mNameError\u001b[0m                                 Traceback (most recent call last)",
      "\u001b[1;32m~\\AppData\\Local\\Temp/ipykernel_2680/1344041972.py\u001b[0m in \u001b[0;36m<module>\u001b[1;34m\u001b[0m\n\u001b[1;32m----> 1\u001b[1;33m \u001b[0mprint\u001b[0m\u001b[1;33m(\u001b[0m\u001b[0mphython_version\u001b[0m\u001b[1;33m(\u001b[0m\u001b[1;33m)\u001b[0m\u001b[1;33m)\u001b[0m\u001b[1;33m;\u001b[0m\u001b[1;33m\u001b[0m\u001b[1;33m\u001b[0m\u001b[0m\n\u001b[0m",
      "\u001b[1;31mNameError\u001b[0m: name 'phython_version' is not defined"
     ]
    }
   ],
   "source": [
    "print(phython_version());"
   ]
  },
  {
   "cell_type": "code",
   "execution_count": 6,
   "id": "c3ace567",
   "metadata": {},
   "outputs": [
    {
     "name": "stdout",
     "output_type": "stream",
     "text": [
      "Python version\n",
      "3.9.7 (default, Sep 16 2021, 16:59:28) [MSC v.1916 64 bit (AMD64)]\n"
     ]
    }
   ],
   "source": [
    "import sys\n",
    "print(\"Python version\")\n",
    "print (sys.version)"
   ]
  },
  {
   "cell_type": "code",
   "execution_count": 11,
   "id": "2a5d939c",
   "metadata": {},
   "outputs": [
    {
     "name": "stdout",
     "output_type": "stream",
     "text": [
      "Current time : \n",
      "11:05:13\n"
     ]
    }
   ],
   "source": [
    "import datetime\n",
    "now = datetime.datetime.now()\n",
    "print (\"Current time : \")\n",
    "print (now.strftime(\"%H:%M:%S\"))"
   ]
  },
  {
   "cell_type": "code",
   "execution_count": null,
   "id": "7977a44e",
   "metadata": {},
   "outputs": [],
   "source": [
    "name=input(\"Enter Your First Name \");\n",
    "lname=input(\"Enter Your Last Name \")\n",
    "print(\"Your Name is\" + \" \"+ name + lname [::-1]);"
   ]
  },
  {
   "cell_type": "code",
   "execution_count": null,
   "id": "6a5095e5",
   "metadata": {},
   "outputs": [],
   "source": [
    "radious=int(input(\"Enter Radious of circle \"));\n",
    "area=(3.14)*(radious*radious);\n",
    "print(area);"
   ]
  },
  {
   "cell_type": "code",
   "execution_count": null,
   "id": "5ce31889",
   "metadata": {},
   "outputs": [],
   "source": [
    "name=int(input(\"Enter Your First Name \"));\n",
    "lname=int(input(\"Enter Your Last Name \"));\n",
    "print(\"Your Name is\" + \" \"+ name + lname);"
   ]
  },
  {
   "cell_type": "code",
   "execution_count": null,
   "id": "1e5915c5",
   "metadata": {},
   "outputs": [],
   "source": []
  },
  {
   "cell_type": "code",
   "execution_count": null,
   "id": "2bc32ce8",
   "metadata": {},
   "outputs": [],
   "source": []
  },
  {
   "cell_type": "code",
   "execution_count": null,
   "id": "1aa369f4",
   "metadata": {},
   "outputs": [],
   "source": []
  },
  {
   "cell_type": "code",
   "execution_count": null,
   "id": "2633f730",
   "metadata": {},
   "outputs": [],
   "source": []
  }
 ],
 "metadata": {
  "kernelspec": {
   "display_name": "Python 3 (ipykernel)",
   "language": "python",
   "name": "python3"
  },
  "language_info": {
   "codemirror_mode": {
    "name": "ipython",
    "version": 3
   },
   "file_extension": ".py",
   "mimetype": "text/x-python",
   "name": "python",
   "nbconvert_exporter": "python",
   "pygments_lexer": "ipython3",
   "version": "3.9.7"
  }
 },
 "nbformat": 4,
 "nbformat_minor": 5
}
